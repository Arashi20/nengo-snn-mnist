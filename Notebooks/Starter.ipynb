{
 "cells": [
  {
   "cell_type": "markdown",
   "id": "d68ee177",
   "metadata": {},
   "source": [
    "# Spiking Neural Networks"
   ]
  },
  {
   "cell_type": "markdown",
   "id": "97a4f3ce",
   "metadata": {},
   "source": [
    "- First Download & Import all of the dependecies."
   ]
  }
 ],
 "metadata": {
  "language_info": {
   "name": "python"
  }
 },
 "nbformat": 4,
 "nbformat_minor": 5
}
